{
  "nbformat": 4,
  "nbformat_minor": 0,
  "metadata": {
    "colab": {
      "name": "Covid.ipynb",
      "provenance": [],
      "collapsed_sections": [],
      "authorship_tag": "ABX9TyMQI8nm4IffFzcAL4g14nLd",
      "include_colab_link": true
    },
    "kernelspec": {
      "name": "python3",
      "display_name": "Python 3"
    }
  },
  "cells": [
    {
      "cell_type": "markdown",
      "metadata": {
        "id": "view-in-github",
        "colab_type": "text"
      },
      "source": [
        "<a href=\"https://colab.research.google.com/github/chauhannaman98/covid-19/blob/master/Covid.ipynb\" target=\"_parent\"><img src=\"https://colab.research.google.com/assets/colab-badge.svg\" alt=\"Open In Colab\"/></a>"
      ]
    },
    {
      "cell_type": "markdown",
      "metadata": {
        "id": "1mzRBl5geXdt",
        "colab_type": "text"
      },
      "source": [
        "# Covid data analysis using pip package"
      ]
    },
    {
      "cell_type": "code",
      "metadata": {
        "id": "HcVvhDYYcp_g",
        "colab_type": "code",
        "colab": {
          "base_uri": "https://localhost:8080/",
          "height": 190
        },
        "outputId": "66474700-e402-434e-b7d8-d2e625544cd3"
      },
      "source": [
        "!pip install covid\n",
        "import covid\n",
        "import csv\n",
        "import pandas as pd"
      ],
      "execution_count": 1,
      "outputs": [
        {
          "output_type": "stream",
          "text": [
            "Requirement already satisfied: covid in /usr/local/lib/python3.6/dist-packages (2.3.0)\n",
            "Requirement already satisfied: pydantic in /usr/local/lib/python3.6/dist-packages (from covid) (1.6.1)\n",
            "Requirement already satisfied: beautifulsoup4 in /usr/local/lib/python3.6/dist-packages (from covid) (4.6.3)\n",
            "Requirement already satisfied: requests in /usr/local/lib/python3.6/dist-packages (from covid) (2.23.0)\n",
            "Requirement already satisfied: dataclasses>=0.6; python_version < \"3.7\" in /usr/local/lib/python3.6/dist-packages (from pydantic->covid) (0.7)\n",
            "Requirement already satisfied: idna<3,>=2.5 in /usr/local/lib/python3.6/dist-packages (from requests->covid) (2.10)\n",
            "Requirement already satisfied: urllib3!=1.25.0,!=1.25.1,<1.26,>=1.21.1 in /usr/local/lib/python3.6/dist-packages (from requests->covid) (1.24.3)\n",
            "Requirement already satisfied: chardet<4,>=3.0.2 in /usr/local/lib/python3.6/dist-packages (from requests->covid) (3.0.4)\n",
            "Requirement already satisfied: certifi>=2017.4.17 in /usr/local/lib/python3.6/dist-packages (from requests->covid) (2020.6.20)\n"
          ],
          "name": "stdout"
        }
      ]
    },
    {
      "cell_type": "code",
      "metadata": {
        "id": "nV6Cbh4mc00w",
        "colab_type": "code",
        "colab": {}
      },
      "source": [
        "from covid import Covid\n",
        "\n",
        "covid = Covid()"
      ],
      "execution_count": 2,
      "outputs": []
    },
    {
      "cell_type": "code",
      "metadata": {
        "id": "WpRNdD_Q3zVx",
        "colab_type": "code",
        "colab": {
          "base_uri": "https://localhost:8080/",
          "height": 54
        },
        "outputId": "473f87d3-8e7b-40d8-db95-73e00c3b4192"
      },
      "source": [
        "countries = covid.list_countries()\n",
        "print(countries)"
      ],
      "execution_count": 3,
      "outputs": [
        {
          "output_type": "stream",
          "text": [
            "[{'id': '18', 'name': 'US'}, {'id': '22', 'name': 'Brazil'}, {'id': '27', 'name': 'India'}, {'id': '14', 'name': 'Russia'}, {'id': '163', 'name': 'South Africa'}, {'id': '20', 'name': 'Mexico'}, {'id': '23', 'name': 'Peru'}, {'id': '21', 'name': 'Chile'}, {'id': '17', 'name': 'United Kingdom'}, {'id': '97', 'name': 'Iran'}, {'id': '19', 'name': 'Spain'}, {'id': '28', 'name': 'Pakistan'}, {'id': '154', 'name': 'Saudi Arabia'}, {'id': '11', 'name': 'Italy'}, {'id': '177', 'name': 'Turkey'}, {'id': '7', 'name': 'France'}, {'id': '40', 'name': 'Bangladesh'}, {'id': '24', 'name': 'Colombia'}, {'id': '8', 'name': 'Germany'}, {'id': '35', 'name': 'Argentina'}, {'id': '3', 'name': 'Canada'}, {'id': '146', 'name': 'Qatar'}, {'id': '98', 'name': 'Iraq'}, {'id': '96', 'name': 'Indonesia'}, {'id': '74', 'name': 'Egypt'}, {'id': '4', 'name': 'China'}, {'id': '15', 'name': 'Sweden'}, {'id': '73', 'name': 'Ecuador'}, {'id': '102', 'name': 'Kazakhstan'}, {'id': '143', 'name': 'Philippines'}, {'id': '139', 'name': 'Oman'}, {'id': '42', 'name': 'Belarus'}, {'id': '43', 'name': 'Belgium'}, {'id': '47', 'name': 'Bolivia'}, {'id': '26', 'name': 'Ukraine'}, {'id': '106', 'name': 'Kuwait'}, {'id': '179', 'name': 'United Arab Emirates'}, {'id': '72', 'name': 'Dominican Republic'}, {'id': '99', 'name': 'Israel'}, {'id': '140', 'name': 'Panama'}, {'id': '12', 'name': 'Netherlands'}, {'id': '145', 'name': 'Portugal'}, {'id': '159', 'name': 'Singapore'}, {'id': '144', 'name': 'Poland'}, {'id': '88', 'name': 'Guatemala'}, {'id': '147', 'name': 'Romania'}, {'id': '137', 'name': 'Nigeria'}, {'id': '39', 'name': 'Bahrain'}, {'id': '29', 'name': 'Afghanistan'}, {'id': '36', 'name': 'Armenia'}, {'id': '94', 'name': 'Honduras'}, {'id': '16', 'name': 'Switzerland'}, {'id': '85', 'name': 'Ghana'}, {'id': '107', 'name': 'Kyrgyzstan'}, {'id': '37', 'name': 'Azerbaijan'}, {'id': '25', 'name': 'Japan'}, {'id': '10', 'name': 'Ireland'}, {'id': '31', 'name': 'Algeria'}, {'id': '156', 'name': 'Serbia'}, {'id': '126', 'name': 'Moldova'}, {'id': '2', 'name': 'Austria'}, {'id': '181', 'name': 'Uzbekistan'}, {'id': '133', 'name': 'Nepal'}, {'id': '130', 'name': 'Morocco'}, {'id': '57', 'name': 'Cameroon'}, {'id': '103', 'name': 'Kenya'}, {'id': '64', 'name': \"Cote d'Ivoire\"}, {'id': '68', 'name': 'Czechia'}, {'id': '104', 'name': 'Korea, South'}, {'id': '5', 'name': 'Denmark'}, {'id': '75', 'name': 'El Salvador'}, {'id': '1', 'name': 'Australia'}, {'id': '182', 'name': 'Venezuela'}, {'id': '63', 'name': 'Costa Rica'}, {'id': '80', 'name': 'Ethiopia'}, {'id': '166', 'name': 'Sudan'}, {'id': '138', 'name': 'North Macedonia'}, {'id': '184', 'name': 'West Bank and Gaza'}, {'id': '51', 'name': 'Bulgaria'}, {'id': '155', 'name': 'Senegal'}, {'id': '48', 'name': 'Bosnia and Herzegovina'}, {'id': '13', 'name': 'Norway'}, {'id': '120', 'name': 'Malaysia'}, {'id': '62', 'name': 'Congo (Kinshasa)'}, {'id': '118', 'name': 'Madagascar'}, {'id': '6', 'name': 'Finland'}, {'id': '92', 'name': 'Haiti'}, {'id': '170', 'name': 'Tajikistan'}, {'id': '89', 'name': 'Guinea'}, {'id': '82', 'name': 'Gabon'}, {'id': '105', 'name': 'Kosovo'}, {'id': '124', 'name': 'Mauritania'}, {'id': '116', 'name': 'Luxembourg'}, {'id': '70', 'name': 'Djibouti'}, {'id': '58', 'name': 'Central African Republic'}, {'id': '65', 'name': 'Croatia'}, {'id': '95', 'name': 'Hungary'}, {'id': '30', 'name': 'Albania'}, {'id': '86', 'name': 'Greece'}, {'id': '142', 'name': 'Paraguay'}, {'id': '187', 'name': 'Zambia'}, {'id': '135', 'name': 'Nicaragua'}, {'id': '172', 'name': 'Thailand'}, {'id': '119', 'name': 'Malawi'}, {'id': '162', 'name': 'Somalia'}, {'id': '110', 'name': 'Lebanon'}, {'id': '121', 'name': 'Maldives'}, {'id': '76', 'name': 'Equatorial Guinea'}, {'id': '61', 'name': 'Congo (Brazzaville)'}, {'id': '165', 'name': 'Sri Lanka'}, {'id': '122', 'name': 'Mali'}, {'id': '66', 'name': 'Cuba'}, {'id': '129', 'name': 'Montenegro'}, {'id': '164', 'name': 'South Sudan'}, {'id': '113', 'name': 'Libya'}, {'id': '55', 'name': 'Cabo Verde'}, {'id': '160', 'name': 'Slovakia'}, {'id': '188', 'name': 'Zimbabwe'}, {'id': '78', 'name': 'Estonia'}, {'id': '161', 'name': 'Slovenia'}, {'id': '90', 'name': 'Guinea-Bissau'}, {'id': '115', 'name': 'Lithuania'}, {'id': '79', 'name': 'Eswatini'}, {'id': '9', 'name': 'Iceland'}, {'id': '158', 'name': 'Sierra Leone'}, {'id': '148', 'name': 'Rwanda'}, {'id': '186', 'name': 'Yemen'}, {'id': '45', 'name': 'Benin'}, {'id': '131', 'name': 'Mozambique'}, {'id': '134', 'name': 'New Zealand'}, {'id': '132', 'name': 'Namibia'}, {'id': '176', 'name': 'Tunisia'}, {'id': '109', 'name': 'Latvia'}, {'id': '167', 'name': 'Suriname'}, {'id': '101', 'name': 'Jordan'}, {'id': '112', 'name': 'Liberia'}, {'id': '136', 'name': 'Niger'}, {'id': '180', 'name': 'Uruguay'}, {'id': '178', 'name': 'Uganda'}, {'id': '84', 'name': 'Georgia'}, {'id': '52', 'name': 'Burkina Faso'}, {'id': '67', 'name': 'Cyprus'}, {'id': '32', 'name': 'Andorra'}, {'id': '59', 'name': 'Chad'}, {'id': '33', 'name': 'Angola'}, {'id': '100', 'name': 'Jamaica'}, {'id': '174', 'name': 'Togo'}, {'id': '153', 'name': 'Sao Tome and Principe'}, {'id': '69', 'name': 'Diamond Princess'}, {'id': '152', 'name': 'San Marino'}, {'id': '123', 'name': 'Malta'}, {'id': '168', 'name': 'Syria'}, {'id': '49', 'name': 'Botswana'}, {'id': '171', 'name': 'Tanzania'}, {'id': '169', 'name': 'Taiwan*'}, {'id': '183', 'name': 'Vietnam'}, {'id': '111', 'name': 'Lesotho'}, {'id': '53', 'name': 'Burma'}, {'id': '125', 'name': 'Mauritius'}, {'id': '91', 'name': 'Guyana'}, {'id': '60', 'name': 'Comoros'}, {'id': '54', 'name': 'Burundi'}, {'id': '128', 'name': 'Mongolia'}, {'id': '77', 'name': 'Eritrea'}, {'id': '56', 'name': 'Cambodia'}, {'id': '38', 'name': 'Bahamas'}, {'id': '50', 'name': 'Brunei'}, {'id': '175', 'name': 'Trinidad and Tobago'}, {'id': '83', 'name': 'Gambia'}, {'id': '127', 'name': 'Monaco'}, {'id': '157', 'name': 'Seychelles'}, {'id': '41', 'name': 'Barbados'}, {'id': '46', 'name': 'Bhutan'}, {'id': '114', 'name': 'Liechtenstein'}, {'id': '34', 'name': 'Antigua and Barbuda'}, {'id': '151', 'name': 'Saint Vincent and the Grenadines'}, {'id': '44', 'name': 'Belize'}, {'id': '81', 'name': 'Fiji'}, {'id': '141', 'name': 'Papua New Guinea'}, {'id': '173', 'name': 'Timor-Leste'}, {'id': '87', 'name': 'Grenada'}, {'id': '150', 'name': 'Saint Lucia'}, {'id': '108', 'name': 'Laos'}, {'id': '71', 'name': 'Dominica'}, {'id': '149', 'name': 'Saint Kitts and Nevis'}, {'id': '93', 'name': 'Holy See'}, {'id': '185', 'name': 'Western Sahara'}, {'id': '117', 'name': 'MS Zaandam'}]\n"
          ],
          "name": "stdout"
        }
      ]
    },
    {
      "cell_type": "code",
      "metadata": {
        "id": "hRnPU8KS7s74",
        "colab_type": "code",
        "colab": {},
        "cellView": "code"
      },
      "source": [
        "country_list = []\n",
        "for country in countries:\n",
        "  country_list.append(covid.get_status_by_country_name(country['name']))\n"
      ],
      "execution_count": 4,
      "outputs": []
    },
    {
      "cell_type": "code",
      "metadata": {
        "id": "m5HBBwrQ_RiU",
        "colab_type": "code",
        "colab": {
          "base_uri": "https://localhost:8080/",
          "height": 54
        },
        "outputId": "001daecf-284e-429a-ef9f-bd0c829cec30"
      },
      "source": [
        "print(country_list)"
      ],
      "execution_count": 5,
      "outputs": [
        {
          "output_type": "stream",
          "text": [
            "[{'id': '18', 'country': 'US', 'confirmed': 3935211, 'active': 2646975, 'deaths': 142595, 'recovered': 1182018, 'latitude': 40.0, 'longitude': -100.0, 'last_update': 1595446503000}, {'id': '22', 'country': 'Brazil', 'confirmed': 2159654, 'active': 498973, 'deaths': 81487, 'recovered': 1579194, 'latitude': -14.235, 'longitude': -51.9253, 'last_update': 1595446503000}, {'id': '27', 'country': 'India', 'confirmed': 1193078, 'active': 411296, 'deaths': 28732, 'recovered': 753050, 'latitude': 20.593684, 'longitude': 78.96288, 'last_update': 1595446503000}, {'id': '14', 'country': 'Russia', 'confirmed': 787846, 'active': 204140, 'deaths': 12722, 'recovered': 570984, 'latitude': 61.524, 'longitude': 105.3188, 'last_update': 1595446503000}, {'id': '163', 'country': 'South Africa', 'confirmed': 381798, 'active': 168286, 'deaths': 5368, 'recovered': 208144, 'latitude': -30.5595, 'longitude': 22.9375, 'last_update': 1595446503000}, {'id': '20', 'country': 'Mexico', 'confirmed': 362274, 'active': 48448, 'deaths': 41190, 'recovered': 272636, 'latitude': 23.6345, 'longitude': -102.5528, 'last_update': 1595446503000}, {'id': '23', 'country': 'Peru', 'confirmed': 362087, 'active': 99762, 'deaths': 13579, 'recovered': 248746, 'latitude': -9.19, 'longitude': -75.0152, 'last_update': 1595446503000}, {'id': '21', 'country': 'Chile', 'confirmed': 334683, 'active': 19190, 'deaths': 8677, 'recovered': 306816, 'latitude': -35.6751, 'longitude': -71.543, 'last_update': 1595446503000}, {'id': '17', 'country': 'United Kingdom', 'confirmed': 297952, 'active': 250952, 'deaths': 45586, 'recovered': 1414, 'latitude': 55.0, 'longitude': -3.0, 'last_update': 1595446503000}, {'id': '97', 'country': 'Iran', 'confirmed': 281413, 'active': 21720, 'deaths': 14853, 'recovered': 244840, 'latitude': 32.427908, 'longitude': 53.688046, 'last_update': 1595446503000}, {'id': '19', 'country': 'Spain', 'confirmed': 267551, 'active': 88749, 'deaths': 28426, 'recovered': 150376, 'latitude': 40.463667, 'longitude': -3.74922, 'last_update': 1595446503000}, {'id': '28', 'country': 'Pakistan', 'confirmed': 267428, 'active': 51283, 'deaths': 5677, 'recovered': 210468, 'latitude': 30.3753, 'longitude': 69.3451, 'last_update': 1595446503000}, {'id': '154', 'country': 'Saudi Arabia', 'confirmed': 258156, 'active': 45157, 'deaths': 2601, 'recovered': 210398, 'latitude': 23.885942, 'longitude': 45.079162, 'last_update': 1595446503000}, {'id': '11', 'country': 'Italy', 'confirmed': 245032, 'active': 12322, 'deaths': 35082, 'recovered': 197628, 'latitude': 41.8719, 'longitude': 12.5674, 'last_update': 1595446503000}, {'id': '177', 'country': 'Turkey', 'confirmed': 222402, 'active': 11643, 'deaths': 5545, 'recovered': 205214, 'latitude': 38.9637, 'longitude': 35.2433, 'last_update': 1595446503000}, {'id': '7', 'country': 'France', 'confirmed': 215605, 'active': 105346, 'deaths': 30175, 'recovered': 80084, 'latitude': 46.2276, 'longitude': 2.2137, 'last_update': 1595446503000}, {'id': '40', 'country': 'Bangladesh', 'confirmed': 213254, 'active': 93301, 'deaths': 2751, 'recovered': 117202, 'latitude': 23.685, 'longitude': 90.3563, 'last_update': 1595446503000}, {'id': '24', 'country': 'Colombia', 'confirmed': 211038, 'active': 105032, 'deaths': 7166, 'recovered': 98840, 'latitude': 4.5709, 'longitude': -74.2973, 'last_update': 1595446503000}, {'id': '8', 'country': 'Germany', 'confirmed': 204276, 'active': 6546, 'deaths': 9102, 'recovered': 188628, 'latitude': 51.165691, 'longitude': 10.451526, 'last_update': 1595446503000}, {'id': '35', 'country': 'Argentina', 'confirmed': 136118, 'active': 73081, 'deaths': 2506, 'recovered': 60531, 'latitude': -38.4161, 'longitude': -63.6167, 'last_update': 1595446503000}, {'id': '3', 'country': 'Canada', 'confirmed': 113705, 'active': 5363, 'deaths': 8912, 'recovered': 99431, 'latitude': 60.001, 'longitude': -95.001, 'last_update': 1595446503000}, {'id': '146', 'country': 'Qatar', 'confirmed': 107871, 'active': 3067, 'deaths': 163, 'recovered': 104641, 'latitude': 25.3548, 'longitude': 51.1839, 'last_update': 1595446503000}, {'id': '98', 'country': 'Iraq', 'confirmed': 99865, 'active': 28676, 'deaths': 4042, 'recovered': 67147, 'latitude': 33.223191, 'longitude': 43.679291, 'last_update': 1595446503000}, {'id': '96', 'country': 'Indonesia', 'confirmed': 91751, 'active': 37037, 'deaths': 4459, 'recovered': 50255, 'latitude': -0.7893, 'longitude': 113.9213, 'last_update': 1595446503000}, {'id': '74', 'country': 'Egypt', 'confirmed': 89078, 'active': 55206, 'deaths': 4399, 'recovered': 29473, 'latitude': 26.820553, 'longitude': 30.802498, 'last_update': 1595446503000}, {'id': '4', 'country': 'China', 'confirmed': 85314, 'active': 652, 'deaths': 4644, 'recovered': 80018, 'latitude': 30.5928, 'longitude': 114.3055, 'last_update': 1595446503000}, {'id': '15', 'country': 'Sweden', 'confirmed': 78504, 'active': 72837, 'deaths': 5667, 'recovered': None, 'latitude': 60.1282, 'longitude': 18.6435, 'last_update': 1595446503000}, {'id': '73', 'country': 'Ecuador', 'confirmed': 76217, 'active': 38126, 'deaths': 5366, 'recovered': 32725, 'latitude': -1.8312, 'longitude': -78.1834, 'last_update': 1595446503000}, {'id': '102', 'country': 'Kazakhstan', 'confirmed': 75153, 'active': 27778, 'deaths': 585, 'recovered': 46790, 'latitude': 48.0196, 'longitude': 66.9237, 'last_update': 1595446503000}, {'id': '143', 'country': 'Philippines', 'confirmed': 72269, 'active': 46803, 'deaths': 1843, 'recovered': 23623, 'latitude': 12.879721, 'longitude': 121.774017, 'last_update': 1595446503000}, {'id': '139', 'country': 'Oman', 'confirmed': 71547, 'active': 23276, 'deaths': 349, 'recovered': 47922, 'latitude': 21.512583, 'longitude': 55.923255, 'last_update': 1595446503000}, {'id': '42', 'country': 'Belarus', 'confirmed': 66521, 'active': 6947, 'deaths': 513, 'recovered': 59061, 'latitude': 53.7098, 'longitude': 27.9534, 'last_update': 1595446503000}, {'id': '43', 'country': 'Belgium', 'confirmed': 64258, 'active': 37123, 'deaths': 9805, 'recovered': 17330, 'latitude': 50.8333, 'longitude': 4.469936, 'last_update': 1595446503000}, {'id': '47', 'country': 'Bolivia', 'confirmed': 62357, 'active': 40794, 'deaths': 2273, 'recovered': 19290, 'latitude': -16.2902, 'longitude': -63.5887, 'last_update': 1595446503000}, {'id': '26', 'country': 'Ukraine', 'confirmed': 62295, 'active': 26566, 'deaths': 1553, 'recovered': 34176, 'latitude': 48.3794, 'longitude': 31.1656, 'last_update': 1595446503000}, {'id': '106', 'country': 'Kuwait', 'confirmed': 61185, 'active': 9248, 'deaths': 417, 'recovered': 51520, 'latitude': 29.31166, 'longitude': 47.481766, 'last_update': 1595446503000}, {'id': '179', 'country': 'United Arab Emirates', 'confirmed': 57734, 'active': 7038, 'deaths': 342, 'recovered': 50354, 'latitude': 23.424076, 'longitude': 53.847818, 'last_update': 1595446503000}, {'id': '72', 'country': 'Dominican Republic', 'confirmed': 56043, 'active': 28572, 'deaths': 1005, 'recovered': 26466, 'latitude': 18.7357, 'longitude': -70.1627, 'last_update': 1595446503000}, {'id': '99', 'country': 'Israel', 'confirmed': 55695, 'active': 32060, 'deaths': 430, 'recovered': 23205, 'latitude': 31.046051, 'longitude': 34.851612, 'last_update': 1595446503000}, {'id': '140', 'country': 'Panama', 'confirmed': 55153, 'active': 23919, 'deaths': 1159, 'recovered': 30075, 'latitude': 8.538, 'longitude': -80.7821, 'last_update': 1595446503000}, {'id': '12', 'country': 'Netherlands', 'confirmed': 52475, 'active': 46123, 'deaths': 6158, 'recovered': 194, 'latitude': 52.3167, 'longitude': 5.55, 'last_update': 1595446503000}, {'id': '145', 'country': 'Portugal', 'confirmed': 49150, 'active': 13449, 'deaths': 1702, 'recovered': 33999, 'latitude': 39.3999, 'longitude': -8.2245, 'last_update': 1595446503000}, {'id': '159', 'country': 'Singapore', 'confirmed': 48744, 'active': 3922, 'deaths': 27, 'recovered': 44795, 'latitude': 1.2833, 'longitude': 103.8333, 'last_update': 1595446503000}, {'id': '144', 'country': 'Poland', 'confirmed': 41162, 'active': 8381, 'deaths': 1642, 'recovered': 31139, 'latitude': 51.9194, 'longitude': 19.1451, 'last_update': 1595446503000}, {'id': '88', 'country': 'Guatemala', 'confirmed': 40229, 'active': 12013, 'deaths': 1531, 'recovered': 26685, 'latitude': 15.7835, 'longitude': -90.2308, 'last_update': 1595446503000}, {'id': '147', 'country': 'Romania', 'confirmed': 40163, 'active': 13399, 'deaths': 2101, 'recovered': 24663, 'latitude': 45.9432, 'longitude': 24.9668, 'last_update': 1595446503000}, {'id': '137', 'country': 'Nigeria', 'confirmed': 37801, 'active': 21319, 'deaths': 805, 'recovered': 15677, 'latitude': 9.082, 'longitude': 8.6753, 'last_update': 1595446503000}, {'id': '39', 'country': 'Bahrain', 'confirmed': 37316, 'active': 3731, 'deaths': 130, 'recovered': 33455, 'latitude': 26.0275, 'longitude': 50.55, 'last_update': 1595446503000}, {'id': '29', 'country': 'Afghanistan', 'confirmed': 35727, 'active': 10613, 'deaths': 1190, 'recovered': 23924, 'latitude': 33.93911, 'longitude': 67.709953, 'last_update': 1595446503000}, {'id': '36', 'country': 'Armenia', 'confirmed': 35693, 'active': 10249, 'deaths': 678, 'recovered': 24766, 'latitude': 40.0691, 'longitude': 45.0382, 'last_update': 1595446503000}, {'id': '94', 'country': 'Honduras', 'confirmed': 35345, 'active': 30213, 'deaths': 988, 'recovered': 4144, 'latitude': 15.2, 'longitude': -86.2419, 'last_update': 1595446503000}, {'id': '16', 'country': 'Switzerland', 'confirmed': 33883, 'active': 1411, 'deaths': 1972, 'recovered': 30500, 'latitude': 46.8182, 'longitude': 8.2275, 'last_update': 1595446503000}, {'id': '85', 'country': 'Ghana', 'confirmed': 28989, 'active': 3505, 'deaths': 153, 'recovered': 25331, 'latitude': 7.9465, 'longitude': -1.0232, 'last_update': 1595446503000}, {'id': '107', 'country': 'Kyrgyzstan', 'confirmed': 28980, 'active': 12333, 'deaths': 1111, 'recovered': 15536, 'latitude': 41.20438, 'longitude': 74.766098, 'last_update': 1595446503000}, {'id': '37', 'country': 'Azerbaijan', 'confirmed': 28633, 'active': 7805, 'deaths': 385, 'recovered': 20443, 'latitude': 40.1431, 'longitude': 47.5769, 'last_update': 1595446503000}, {'id': '25', 'country': 'Japan', 'confirmed': 27090, 'active': 5620, 'deaths': 988, 'recovered': 20482, 'latitude': 36.204824, 'longitude': 138.252924, 'last_update': 1595446503000}, {'id': '10', 'country': 'Ireland', 'confirmed': 25819, 'active': 701, 'deaths': 1754, 'recovered': 23364, 'latitude': 53.1424, 'longitude': -7.6921, 'last_update': 1595446503000}, {'id': '31', 'country': 'Algeria', 'confirmed': 24872, 'active': 6778, 'deaths': 1111, 'recovered': 16983, 'latitude': 28.0339, 'longitude': 1.6596, 'last_update': 1595446503000}, {'id': '156', 'country': 'Serbia', 'confirmed': 22031, 'active': 21532, 'deaths': 499, 'recovered': None, 'latitude': 44.0165, 'longitude': 21.0059, 'last_update': 1595446503000}, {'id': '126', 'country': 'Moldova', 'confirmed': 21798, 'active': 6230, 'deaths': 712, 'recovered': 14856, 'latitude': 47.4116, 'longitude': 28.3699, 'last_update': 1595446503000}, {'id': '2', 'country': 'Austria', 'confirmed': 19929, 'active': 1369, 'deaths': 711, 'recovered': 17849, 'latitude': 47.5162, 'longitude': 14.5501, 'last_update': 1595446503000}, {'id': '181', 'country': 'Uzbekistan', 'confirmed': 18324, 'active': 8673, 'deaths': 97, 'recovered': 9554, 'latitude': 41.377491, 'longitude': 64.585262, 'last_update': 1595446503000}, {'id': '133', 'country': 'Nepal', 'confirmed': 18094, 'active': 5368, 'deaths': 42, 'recovered': 12684, 'latitude': 28.1667, 'longitude': 84.25, 'last_update': 1595446503000}, {'id': '130', 'country': 'Morocco', 'confirmed': 17962, 'active': 2041, 'deaths': 285, 'recovered': 15636, 'latitude': 31.7917, 'longitude': -7.0926, 'last_update': 1595446503000}, {'id': '57', 'country': 'Cameroon', 'confirmed': 16522, 'active': 2412, 'deaths': 382, 'recovered': 13728, 'latitude': 3.848, 'longitude': 11.5021, 'last_update': 1595446503000}, {'id': '103', 'country': 'Kenya', 'confirmed': 14805, 'active': 7788, 'deaths': 260, 'recovered': 6757, 'latitude': -0.0236, 'longitude': 37.9062, 'last_update': 1595446503000}, {'id': '64', 'country': \"Cote d'Ivoire\", 'confirmed': 14531, 'active': 5581, 'deaths': 93, 'recovered': 8857, 'latitude': 7.54, 'longitude': -5.5471, 'last_update': 1595446503000}, {'id': '68', 'country': 'Czechia', 'confirmed': 14448, 'active': 5009, 'deaths': 364, 'recovered': 9075, 'latitude': 49.8175, 'longitude': 15.473, 'last_update': 1595446503000}, {'id': '104', 'country': 'Korea, South', 'confirmed': 13879, 'active': 884, 'deaths': 297, 'recovered': 12698, 'latitude': 35.907757, 'longitude': 127.766922, 'last_update': 1595446503000}, {'id': '5', 'country': 'Denmark', 'confirmed': 13554, 'active': 468, 'deaths': 611, 'recovered': 12475, 'latitude': 56.2639, 'longitude': 9.5018, 'last_update': 1595446503000}, {'id': '75', 'country': 'El Salvador', 'confirmed': 12975, 'active': 5493, 'deaths': 363, 'recovered': 7119, 'latitude': 13.7942, 'longitude': -88.8965, 'last_update': 1595446503000}, {'id': '1', 'country': 'Australia', 'confirmed': 12896, 'active': 4115, 'deaths': 128, 'recovered': 8653, 'latitude': -25.0, 'longitude': 133.0, 'last_update': 1595446503000}, {'id': '182', 'country': 'Venezuela', 'confirmed': 12774, 'active': 5671, 'deaths': 120, 'recovered': 6983, 'latitude': 6.4238, 'longitude': -66.5897, 'last_update': 1595446503000}, {'id': '63', 'country': 'Costa Rica', 'confirmed': 12361, 'active': 8968, 'deaths': 71, 'recovered': 3322, 'latitude': 9.7489, 'longitude': -83.7534, 'last_update': 1595446503000}, {'id': '80', 'country': 'Ethiopia', 'confirmed': 11524, 'active': 5830, 'deaths': 188, 'recovered': 5506, 'latitude': 9.145, 'longitude': 40.4897, 'last_update': 1595446503000}, {'id': '166', 'country': 'Sudan', 'confirmed': 10992, 'active': 4592, 'deaths': 693, 'recovered': 5707, 'latitude': 12.8628, 'longitude': 30.2176, 'last_update': 1595446503000}, {'id': '138', 'country': 'North Macedonia', 'confirmed': 9547, 'active': 4034, 'deaths': 442, 'recovered': 5071, 'latitude': 41.6086, 'longitude': 21.7453, 'last_update': 1595446503000}, {'id': '184', 'country': 'West Bank and Gaza', 'confirmed': 9398, 'active': 7383, 'deaths': 65, 'recovered': 1950, 'latitude': 31.9522, 'longitude': 35.2332, 'last_update': 1595446503000}, {'id': '51', 'country': 'Bulgaria', 'confirmed': 9254, 'active': 4420, 'deaths': 313, 'recovered': 4521, 'latitude': 42.7339, 'longitude': 25.4858, 'last_update': 1595446503000}, {'id': '155', 'country': 'Senegal', 'confirmed': 9121, 'active': 2836, 'deaths': 177, 'recovered': 6108, 'latitude': 14.4974, 'longitude': -14.4524, 'last_update': 1595446503000}, {'id': '48', 'country': 'Bosnia and Herzegovina', 'confirmed': 9115, 'active': 4688, 'deaths': 268, 'recovered': 4159, 'latitude': 43.9159, 'longitude': 17.6791, 'last_update': 1595446503000}, {'id': '13', 'country': 'Norway', 'confirmed': 9059, 'active': 666, 'deaths': 255, 'recovered': 8138, 'latitude': 60.472, 'longitude': 8.4689, 'last_update': 1595446503000}, {'id': '120', 'country': 'Malaysia', 'confirmed': 8831, 'active': 142, 'deaths': 123, 'recovered': 8566, 'latitude': 4.210484, 'longitude': 101.975766, 'last_update': 1595446503000}, {'id': '62', 'country': 'Congo (Kinshasa)', 'confirmed': 8626, 'active': 3639, 'deaths': 197, 'recovered': 4790, 'latitude': -4.0383, 'longitude': 21.7587, 'last_update': 1595446503000}, {'id': '118', 'country': 'Madagascar', 'confirmed': 8162, 'active': 3431, 'deaths': 69, 'recovered': 4662, 'latitude': -18.766947, 'longitude': 46.869107, 'last_update': 1595446503000}, {'id': '6', 'country': 'Finland', 'confirmed': 7362, 'active': 114, 'deaths': 328, 'recovered': 6920, 'latitude': 61.9241, 'longitude': 25.7482, 'last_update': 1595446503000}, {'id': '92', 'country': 'Haiti', 'confirmed': 7146, 'active': 2897, 'deaths': 154, 'recovered': 4095, 'latitude': 18.9712, 'longitude': -72.2852, 'last_update': 1595446503000}, {'id': '170', 'country': 'Tajikistan', 'confirmed': 7015, 'active': 1216, 'deaths': 58, 'recovered': 5741, 'latitude': 38.861034, 'longitude': 71.276093, 'last_update': 1595446503000}, {'id': '89', 'country': 'Guinea', 'confirmed': 6652, 'active': 840, 'deaths': 41, 'recovered': 5771, 'latitude': 9.9456, 'longitude': -9.6966, 'last_update': 1595446503000}, {'id': '82', 'country': 'Gabon', 'confirmed': 6433, 'active': 2353, 'deaths': 46, 'recovered': 4034, 'latitude': -0.8037, 'longitude': 11.6094, 'last_update': 1595446503000}, {'id': '105', 'country': 'Kosovo', 'confirmed': 6286, 'active': 2767, 'deaths': 150, 'recovered': 3369, 'latitude': 42.602636, 'longitude': 20.902977, 'last_update': 1595446503000}, {'id': '124', 'country': 'Mauritania', 'confirmed': 5985, 'active': 2004, 'deaths': 155, 'recovered': 3826, 'latitude': 21.0079, 'longitude': -10.9408, 'last_update': 1595446503000}, {'id': '116', 'country': 'Luxembourg', 'confirmed': 5854, 'active': 1213, 'deaths': 111, 'recovered': 4530, 'latitude': 49.8153, 'longitude': 6.1296, 'last_update': 1595446503000}, {'id': '70', 'country': 'Djibouti', 'confirmed': 5030, 'active': 68, 'deaths': 58, 'recovered': 4904, 'latitude': 11.8251, 'longitude': 42.5903, 'last_update': 1595446503000}, {'id': '58', 'country': 'Central African Republic', 'confirmed': 4561, 'active': 3095, 'deaths': 55, 'recovered': 1411, 'latitude': 6.6111, 'longitude': 20.9394, 'last_update': 1595446503000}, {'id': '65', 'country': 'Croatia', 'confirmed': 4530, 'active': 1127, 'deaths': 125, 'recovered': 3278, 'latitude': 45.1, 'longitude': 15.2, 'last_update': 1595446503000}, {'id': '95', 'country': 'Hungary', 'confirmed': 4366, 'active': 487, 'deaths': 596, 'recovered': 3283, 'latitude': 47.1625, 'longitude': 19.5033, 'last_update': 1595446503000}, {'id': '30', 'country': 'Albania', 'confirmed': 4358, 'active': 1775, 'deaths': 120, 'recovered': 2463, 'latitude': 41.1533, 'longitude': 20.1683, 'last_update': 1595446503000}, {'id': '86', 'country': 'Greece', 'confirmed': 4077, 'active': 2503, 'deaths': 200, 'recovered': 1374, 'latitude': 39.0742, 'longitude': 21.8243, 'last_update': 1595446503000}, {'id': '142', 'country': 'Paraguay', 'confirmed': 3817, 'active': 1475, 'deaths': 35, 'recovered': 2307, 'latitude': -23.4425, 'longitude': -58.4438, 'last_update': 1595446503000}, {'id': '187', 'country': 'Zambia', 'confirmed': 3583, 'active': 1778, 'deaths': 128, 'recovered': 1677, 'latitude': -13.133897, 'longitude': 27.849332, 'last_update': 1595446503000}, {'id': '135', 'country': 'Nicaragua', 'confirmed': 3439, 'active': 839, 'deaths': 108, 'recovered': 2492, 'latitude': 12.865416, 'longitude': -85.207229, 'last_update': 1595446503000}, {'id': '172', 'country': 'Thailand', 'confirmed': 3261, 'active': 98, 'deaths': 58, 'recovered': 3105, 'latitude': 15.870032, 'longitude': 100.992541, 'last_update': 1595446503000}, {'id': '119', 'country': 'Malawi', 'confirmed': 3149, 'active': 1822, 'deaths': 71, 'recovered': 1256, 'latitude': -13.254308, 'longitude': 34.301525, 'last_update': 1595446503000}, {'id': '162', 'country': 'Somalia', 'confirmed': 3135, 'active': 1578, 'deaths': 93, 'recovered': 1464, 'latitude': 5.152149, 'longitude': 46.199616, 'last_update': 1595446503000}, {'id': '110', 'country': 'Lebanon', 'confirmed': 3104, 'active': 1454, 'deaths': 43, 'recovered': 1607, 'latitude': 33.8547, 'longitude': 35.8623, 'last_update': 1595446503000}, {'id': '121', 'country': 'Maldives', 'confirmed': 3103, 'active': 691, 'deaths': 15, 'recovered': 2397, 'latitude': 3.2028, 'longitude': 73.2207, 'last_update': 1595446503000}, {'id': '76', 'country': 'Equatorial Guinea', 'confirmed': 3071, 'active': 2178, 'deaths': 51, 'recovered': 842, 'latitude': 1.6508, 'longitude': 10.2679, 'last_update': 1595446503000}, {'id': '61', 'country': 'Congo (Brazzaville)', 'confirmed': 2851, 'active': 2135, 'deaths': 50, 'recovered': 666, 'latitude': -0.228, 'longitude': 15.8277, 'last_update': 1595446503000}, {'id': '165', 'country': 'Sri Lanka', 'confirmed': 2745, 'active': 670, 'deaths': 11, 'recovered': 2064, 'latitude': 7.873054, 'longitude': 80.771797, 'last_update': 1595446503000}, {'id': '122', 'country': 'Mali', 'confirmed': 2494, 'active': 502, 'deaths': 123, 'recovered': 1869, 'latitude': 17.570692, 'longitude': -3.996166, 'last_update': 1595446503000}, {'id': '66', 'country': 'Cuba', 'confirmed': 2462, 'active': 49, 'deaths': 87, 'recovered': 2326, 'latitude': 21.521757, 'longitude': -77.781167, 'last_update': 1595446503000}, {'id': '129', 'country': 'Montenegro', 'confirmed': 2381, 'active': 1920, 'deaths': 35, 'recovered': 426, 'latitude': 42.708678, 'longitude': 19.37439, 'last_update': 1595446503000}, {'id': '164', 'country': 'South Sudan', 'confirmed': 2211, 'active': 991, 'deaths': 45, 'recovered': 1175, 'latitude': 6.877, 'longitude': 31.307, 'last_update': 1595446503000}, {'id': '113', 'country': 'Libya', 'confirmed': 2176, 'active': 1634, 'deaths': 53, 'recovered': 489, 'latitude': 26.3351, 'longitude': 17.228331, 'last_update': 1595446503000}, {'id': '55', 'country': 'Cabo Verde', 'confirmed': 2154, 'active': 1001, 'deaths': 21, 'recovered': 1132, 'latitude': 16.5388, 'longitude': -23.0418, 'last_update': 1595446503000}, {'id': '160', 'country': 'Slovakia', 'confirmed': 2058, 'active': 474, 'deaths': 28, 'recovered': 1556, 'latitude': 48.669, 'longitude': 19.699, 'last_update': 1595446503000}, {'id': '188', 'country': 'Zimbabwe', 'confirmed': 2034, 'active': 1498, 'deaths': 26, 'recovered': 510, 'latitude': -19.015438, 'longitude': 29.154857, 'last_update': 1595446503000}, {'id': '78', 'country': 'Estonia', 'confirmed': 2025, 'active': 44, 'deaths': 69, 'recovered': 1912, 'latitude': 58.5953, 'longitude': 25.0136, 'last_update': 1595446503000}, {'id': '161', 'country': 'Slovenia', 'confirmed': 2006, 'active': 243, 'deaths': 115, 'recovered': 1648, 'latitude': 46.1512, 'longitude': 14.9955, 'last_update': 1595446503000}, {'id': '90', 'country': 'Guinea-Bissau', 'confirmed': 1954, 'active': 1125, 'deaths': 26, 'recovered': 803, 'latitude': 11.8037, 'longitude': -15.1804, 'last_update': 1595446503000}, {'id': '115', 'country': 'Lithuania', 'confirmed': 1951, 'active': 264, 'deaths': 80, 'recovered': 1607, 'latitude': 55.1694, 'longitude': 23.8813, 'last_update': 1595446503000}, {'id': '79', 'country': 'Eswatini', 'confirmed': 1938, 'active': 1037, 'deaths': 25, 'recovered': 876, 'latitude': -26.5225, 'longitude': 31.4659, 'last_update': 1595446503000}, {'id': '9', 'country': 'Iceland', 'confirmed': 1840, 'active': 8, 'deaths': 10, 'recovered': 1822, 'latitude': 64.9631, 'longitude': -19.0208, 'last_update': 1595446503000}, {'id': '158', 'country': 'Sierra Leone', 'confirmed': 1731, 'active': 377, 'deaths': 66, 'recovered': 1288, 'latitude': 8.460555, 'longitude': -11.779889, 'last_update': 1595446503000}, {'id': '148', 'country': 'Rwanda', 'confirmed': 1655, 'active': 802, 'deaths': 5, 'recovered': 848, 'latitude': -1.9403, 'longitude': 29.8739, 'last_update': 1595446503000}, {'id': '186', 'country': 'Yemen', 'confirmed': 1640, 'active': 431, 'deaths': 458, 'recovered': 751, 'latitude': 15.552727, 'longitude': 48.516388, 'last_update': 1595446503000}, {'id': '45', 'country': 'Benin', 'confirmed': 1602, 'active': 789, 'deaths': 31, 'recovered': 782, 'latitude': 9.3077, 'longitude': 2.3158, 'last_update': 1595446503000}, {'id': '131', 'country': 'Mozambique', 'confirmed': 1557, 'active': 1023, 'deaths': 11, 'recovered': 523, 'latitude': -18.665695, 'longitude': 35.529562, 'last_update': 1595446503000}, {'id': '134', 'country': 'New Zealand', 'confirmed': 1555, 'active': 27, 'deaths': 22, 'recovered': 1506, 'latitude': -40.9006, 'longitude': 174.886, 'last_update': 1595446503000}, {'id': '132', 'country': 'Namibia', 'confirmed': 1402, 'active': 1331, 'deaths': 7, 'recovered': 64, 'latitude': -22.9576, 'longitude': 18.4904, 'last_update': 1595446503000}, {'id': '176', 'country': 'Tunisia', 'confirmed': 1394, 'active': 236, 'deaths': 50, 'recovered': 1108, 'latitude': 33.886917, 'longitude': 9.537499, 'last_update': 1595446503000}, {'id': '109', 'country': 'Latvia', 'confirmed': 1197, 'active': 121, 'deaths': 31, 'recovered': 1045, 'latitude': 56.8796, 'longitude': 24.6032, 'last_update': 1595446503000}, {'id': '167', 'country': 'Suriname', 'confirmed': 1131, 'active': 405, 'deaths': 21, 'recovered': 705, 'latitude': 3.9193, 'longitude': -56.0278, 'last_update': 1595446503000}, {'id': '101', 'country': 'Jordan', 'confirmed': 1120, 'active': 74, 'deaths': 11, 'recovered': 1035, 'latitude': 31.24, 'longitude': 36.51, 'last_update': 1595446503000}, {'id': '112', 'country': 'Liberia', 'confirmed': 1114, 'active': 452, 'deaths': 70, 'recovered': 592, 'latitude': 6.428055, 'longitude': -9.429499, 'last_update': 1595446503000}, {'id': '136', 'country': 'Niger', 'confirmed': 1113, 'active': 26, 'deaths': 69, 'recovered': 1018, 'latitude': 17.607789, 'longitude': 8.081666, 'last_update': 1595446503000}, {'id': '180', 'country': 'Uruguay', 'confirmed': 1096, 'active': 134, 'deaths': 33, 'recovered': 929, 'latitude': -32.5228, 'longitude': -55.7658, 'last_update': 1595446503000}, {'id': '178', 'country': 'Uganda', 'confirmed': 1075, 'active': 117, 'deaths': 0, 'recovered': 958, 'latitude': 1.373333, 'longitude': 32.290275, 'last_update': 1595446503000}, {'id': '84', 'country': 'Georgia', 'confirmed': 1073, 'active': 150, 'deaths': 16, 'recovered': 907, 'latitude': 42.3154, 'longitude': 43.3569, 'last_update': 1595446503000}, {'id': '52', 'country': 'Burkina Faso', 'confirmed': 1066, 'active': 96, 'deaths': 53, 'recovered': 917, 'latitude': 12.2383, 'longitude': -1.5616, 'last_update': 1595446503000}, {'id': '67', 'country': 'Cyprus', 'confirmed': 1040, 'active': 174, 'deaths': 19, 'recovered': 847, 'latitude': 35.1264, 'longitude': 33.4299, 'last_update': 1595446503000}, {'id': '32', 'country': 'Andorra', 'confirmed': 889, 'active': 34, 'deaths': 52, 'recovered': 803, 'latitude': 42.5063, 'longitude': 1.5218, 'last_update': 1595446503000}, {'id': '59', 'country': 'Chad', 'confirmed': 889, 'active': 9, 'deaths': 75, 'recovered': 805, 'latitude': 15.4542, 'longitude': 18.7322, 'last_update': 1595446503000}, {'id': '33', 'country': 'Angola', 'confirmed': 812, 'active': 558, 'deaths': 33, 'recovered': 221, 'latitude': -11.2027, 'longitude': 17.8739, 'last_update': 1595446503000}, {'id': '100', 'country': 'Jamaica', 'confirmed': 810, 'active': 91, 'deaths': 10, 'recovered': 709, 'latitude': 18.1096, 'longitude': -77.2975, 'last_update': 1595446503000}, {'id': '174', 'country': 'Togo', 'confirmed': 790, 'active': 215, 'deaths': 15, 'recovered': 560, 'latitude': 8.6195, 'longitude': 0.8248, 'last_update': 1595446503000}, {'id': '153', 'country': 'Sao Tome and Principe', 'confirmed': 746, 'active': 144, 'deaths': 14, 'recovered': 588, 'latitude': 0.18636, 'longitude': 6.613081, 'last_update': 1595446503000}, {'id': '69', 'country': 'Diamond Princess', 'confirmed': 712, 'active': 48, 'deaths': 13, 'recovered': 651, 'latitude': None, 'longitude': None, 'last_update': 1595446503000}, {'id': '152', 'country': 'San Marino', 'confirmed': 699, 'active': 1, 'deaths': 42, 'recovered': 656, 'latitude': 43.9424, 'longitude': 12.4578, 'last_update': 1595446503000}, {'id': '123', 'country': 'Malta', 'confirmed': 679, 'active': 5, 'deaths': 9, 'recovered': 665, 'latitude': 35.9375, 'longitude': 14.3754, 'last_update': 1595446503000}, {'id': '168', 'country': 'Syria', 'confirmed': 561, 'active': 364, 'deaths': 32, 'recovered': 165, 'latitude': 34.802075, 'longitude': 38.996815, 'last_update': 1595446503000}, {'id': '49', 'country': 'Botswana', 'confirmed': 522, 'active': 473, 'deaths': 1, 'recovered': 48, 'latitude': -22.3285, 'longitude': 24.6849, 'last_update': 1595446503000}, {'id': '171', 'country': 'Tanzania', 'confirmed': 509, 'active': 305, 'deaths': 21, 'recovered': 183, 'latitude': -6.369028, 'longitude': 34.888822, 'last_update': 1595446503000}, {'id': '169', 'country': 'Taiwan*', 'confirmed': 451, 'active': 4, 'deaths': 7, 'recovered': 440, 'latitude': 23.7, 'longitude': 121.0, 'last_update': 1595446503000}, {'id': '183', 'country': 'Vietnam', 'confirmed': 408, 'active': 43, 'deaths': 0, 'recovered': 365, 'latitude': 14.058324, 'longitude': 108.277199, 'last_update': 1595446503000}, {'id': '111', 'country': 'Lesotho', 'confirmed': 359, 'active': 284, 'deaths': 6, 'recovered': 69, 'latitude': -29.609988, 'longitude': 28.233608, 'last_update': 1595446503000}, {'id': '53', 'country': 'Burma', 'confirmed': 343, 'active': 57, 'deaths': 6, 'recovered': 280, 'latitude': 21.9162, 'longitude': 95.956, 'last_update': 1595446503000}, {'id': '125', 'country': 'Mauritius', 'confirmed': 343, 'active': 1, 'deaths': 10, 'recovered': 332, 'latitude': -20.348404, 'longitude': 57.552152, 'last_update': 1595446503000}, {'id': '91', 'country': 'Guyana', 'confirmed': 339, 'active': 157, 'deaths': 19, 'recovered': 163, 'latitude': 4.860416, 'longitude': -58.93018, 'last_update': 1595446503000}, {'id': '60', 'country': 'Comoros', 'confirmed': 337, 'active': 11, 'deaths': 7, 'recovered': 319, 'latitude': -11.6455, 'longitude': 43.3333, 'last_update': 1595446503000}, {'id': '54', 'country': 'Burundi', 'confirmed': 328, 'active': 120, 'deaths': 1, 'recovered': 207, 'latitude': -3.3731, 'longitude': 29.9189, 'last_update': 1595446503000}, {'id': '128', 'country': 'Mongolia', 'confirmed': 287, 'active': 74, 'deaths': 0, 'recovered': 213, 'latitude': 46.8625, 'longitude': 103.8467, 'last_update': 1595446503000}, {'id': '77', 'country': 'Eritrea', 'confirmed': 251, 'active': 96, 'deaths': 0, 'recovered': 155, 'latitude': 15.1794, 'longitude': 39.7823, 'last_update': 1595446503000}, {'id': '56', 'country': 'Cambodia', 'confirmed': 197, 'active': 57, 'deaths': 0, 'recovered': 140, 'latitude': 11.55, 'longitude': 104.9167, 'last_update': 1595446503000}, {'id': '38', 'country': 'Bahamas', 'confirmed': 194, 'active': 92, 'deaths': 11, 'recovered': 91, 'latitude': 25.025885, 'longitude': -78.035889, 'last_update': 1595446503000}, {'id': '50', 'country': 'Brunei', 'confirmed': 141, 'active': 0, 'deaths': 3, 'recovered': 138, 'latitude': 4.5353, 'longitude': 114.7277, 'last_update': 1595446503000}, {'id': '175', 'country': 'Trinidad and Tobago', 'confirmed': 139, 'active': 7, 'deaths': 8, 'recovered': 124, 'latitude': 10.6918, 'longitude': -61.2225, 'last_update': 1595446503000}, {'id': '83', 'country': 'Gambia', 'confirmed': 132, 'active': 70, 'deaths': 5, 'recovered': 57, 'latitude': 13.4432, 'longitude': -15.3101, 'last_update': 1595446503000}, {'id': '127', 'country': 'Monaco', 'confirmed': 112, 'active': 8, 'deaths': 4, 'recovered': 100, 'latitude': 43.7333, 'longitude': 7.4167, 'last_update': 1595446503000}, {'id': '157', 'country': 'Seychelles', 'confirmed': 108, 'active': 81, 'deaths': 0, 'recovered': 27, 'latitude': -4.6796, 'longitude': 55.492, 'last_update': 1595446503000}, {'id': '41', 'country': 'Barbados', 'confirmed': 106, 'active': 8, 'deaths': 7, 'recovered': 91, 'latitude': 13.1939, 'longitude': -59.5432, 'last_update': 1595446503000}, {'id': '46', 'country': 'Bhutan', 'confirmed': 92, 'active': 9, 'deaths': 0, 'recovered': 83, 'latitude': 27.5142, 'longitude': 90.4336, 'last_update': 1595446503000}, {'id': '114', 'country': 'Liechtenstein', 'confirmed': 86, 'active': 4, 'deaths': 1, 'recovered': 81, 'latitude': 47.14, 'longitude': 9.55, 'last_update': 1595446503000}, {'id': '34', 'country': 'Antigua and Barbuda', 'confirmed': 76, 'active': 16, 'deaths': 3, 'recovered': 57, 'latitude': 17.0608, 'longitude': -61.7964, 'last_update': 1595446503000}, {'id': '151', 'country': 'Saint Vincent and the Grenadines', 'confirmed': 50, 'active': 21, 'deaths': 0, 'recovered': 29, 'latitude': 12.9843, 'longitude': -61.2872, 'last_update': 1595446503000}, {'id': '44', 'country': 'Belize', 'confirmed': 43, 'active': 18, 'deaths': 2, 'recovered': 23, 'latitude': 17.1899, 'longitude': -88.4976, 'last_update': 1595446503000}, {'id': '81', 'country': 'Fiji', 'confirmed': 27, 'active': 9, 'deaths': 0, 'recovered': 18, 'latitude': -17.7134, 'longitude': 178.065, 'last_update': 1595446503000}, {'id': '141', 'country': 'Papua New Guinea', 'confirmed': 27, 'active': 18, 'deaths': 1, 'recovered': 8, 'latitude': -6.314993, 'longitude': 143.95555, 'last_update': 1595392482000}, {'id': '173', 'country': 'Timor-Leste', 'confirmed': 24, 'active': 0, 'deaths': 0, 'recovered': 24, 'latitude': -8.874217, 'longitude': 125.727539, 'last_update': 1595446503000}, {'id': '87', 'country': 'Grenada', 'confirmed': 23, 'active': 0, 'deaths': 0, 'recovered': 23, 'latitude': 12.1165, 'longitude': -61.679, 'last_update': 1595446503000}, {'id': '150', 'country': 'Saint Lucia', 'confirmed': 23, 'active': 4, 'deaths': 0, 'recovered': 19, 'latitude': 13.9094, 'longitude': -60.9789, 'last_update': 1595446503000}, {'id': '108', 'country': 'Laos', 'confirmed': 19, 'active': 0, 'deaths': 0, 'recovered': 19, 'latitude': 19.85627, 'longitude': 102.495496, 'last_update': 1595446503000}, {'id': '71', 'country': 'Dominica', 'confirmed': 18, 'active': 0, 'deaths': 0, 'recovered': 18, 'latitude': 15.415, 'longitude': -61.371, 'last_update': 1595446503000}, {'id': '149', 'country': 'Saint Kitts and Nevis', 'confirmed': 17, 'active': 2, 'deaths': 0, 'recovered': 15, 'latitude': 17.357822, 'longitude': -62.782998, 'last_update': 1595446503000}, {'id': '93', 'country': 'Holy See', 'confirmed': 12, 'active': 0, 'deaths': 0, 'recovered': 12, 'latitude': 41.9029, 'longitude': 12.4534, 'last_update': 1595446503000}, {'id': '185', 'country': 'Western Sahara', 'confirmed': 10, 'active': 1, 'deaths': 1, 'recovered': 8, 'latitude': 24.2155, 'longitude': -12.8858, 'last_update': 1595446503000}, {'id': '117', 'country': 'MS Zaandam', 'confirmed': 9, 'active': 7, 'deaths': 2, 'recovered': None, 'latitude': None, 'longitude': None, 'last_update': 1595446503000}]\n"
          ],
          "name": "stdout"
        }
      ]
    },
    {
      "cell_type": "code",
      "metadata": {
        "id": "qx6oMa2i_geg",
        "colab_type": "code",
        "colab": {}
      },
      "source": [
        "keys = country_list[0].keys()\n",
        "with open('covid.csv', 'w') as output_file:\n",
        "    dict_writer = csv.DictWriter(output_file, keys)\n",
        "    dict_writer.writeheader()\n",
        "    dict_writer.writerows(country_list)"
      ],
      "execution_count": 6,
      "outputs": []
    },
    {
      "cell_type": "code",
      "metadata": {
        "id": "BIODfTf9HiW4",
        "colab_type": "code",
        "colab": {}
      },
      "source": [
        "data = pd.read_csv('covid.csv')"
      ],
      "execution_count": 7,
      "outputs": []
    },
    {
      "cell_type": "code",
      "metadata": {
        "id": "7PVzvt0vHokM",
        "colab_type": "code",
        "colab": {
          "base_uri": "https://localhost:8080/",
          "height": 359
        },
        "outputId": "fdebaa9d-d88e-4319-8860-0053f52940de"
      },
      "source": [
        "data.head(10)"
      ],
      "execution_count": 10,
      "outputs": [
        {
          "output_type": "execute_result",
          "data": {
            "text/html": [
              "<div>\n",
              "<style scoped>\n",
              "    .dataframe tbody tr th:only-of-type {\n",
              "        vertical-align: middle;\n",
              "    }\n",
              "\n",
              "    .dataframe tbody tr th {\n",
              "        vertical-align: top;\n",
              "    }\n",
              "\n",
              "    .dataframe thead th {\n",
              "        text-align: right;\n",
              "    }\n",
              "</style>\n",
              "<table border=\"1\" class=\"dataframe\">\n",
              "  <thead>\n",
              "    <tr style=\"text-align: right;\">\n",
              "      <th></th>\n",
              "      <th>id</th>\n",
              "      <th>country</th>\n",
              "      <th>confirmed</th>\n",
              "      <th>active</th>\n",
              "      <th>deaths</th>\n",
              "      <th>recovered</th>\n",
              "      <th>latitude</th>\n",
              "      <th>longitude</th>\n",
              "      <th>last_update</th>\n",
              "    </tr>\n",
              "  </thead>\n",
              "  <tbody>\n",
              "    <tr>\n",
              "      <th>0</th>\n",
              "      <td>18</td>\n",
              "      <td>US</td>\n",
              "      <td>3935211</td>\n",
              "      <td>2646975</td>\n",
              "      <td>142595</td>\n",
              "      <td>1182018.0</td>\n",
              "      <td>40.000000</td>\n",
              "      <td>-100.000000</td>\n",
              "      <td>1595446503000</td>\n",
              "    </tr>\n",
              "    <tr>\n",
              "      <th>1</th>\n",
              "      <td>22</td>\n",
              "      <td>Brazil</td>\n",
              "      <td>2159654</td>\n",
              "      <td>498973</td>\n",
              "      <td>81487</td>\n",
              "      <td>1579194.0</td>\n",
              "      <td>-14.235000</td>\n",
              "      <td>-51.925300</td>\n",
              "      <td>1595446503000</td>\n",
              "    </tr>\n",
              "    <tr>\n",
              "      <th>2</th>\n",
              "      <td>27</td>\n",
              "      <td>India</td>\n",
              "      <td>1193078</td>\n",
              "      <td>411296</td>\n",
              "      <td>28732</td>\n",
              "      <td>753050.0</td>\n",
              "      <td>20.593684</td>\n",
              "      <td>78.962880</td>\n",
              "      <td>1595446503000</td>\n",
              "    </tr>\n",
              "    <tr>\n",
              "      <th>3</th>\n",
              "      <td>14</td>\n",
              "      <td>Russia</td>\n",
              "      <td>787846</td>\n",
              "      <td>204140</td>\n",
              "      <td>12722</td>\n",
              "      <td>570984.0</td>\n",
              "      <td>61.524000</td>\n",
              "      <td>105.318800</td>\n",
              "      <td>1595446503000</td>\n",
              "    </tr>\n",
              "    <tr>\n",
              "      <th>4</th>\n",
              "      <td>163</td>\n",
              "      <td>South Africa</td>\n",
              "      <td>381798</td>\n",
              "      <td>168286</td>\n",
              "      <td>5368</td>\n",
              "      <td>208144.0</td>\n",
              "      <td>-30.559500</td>\n",
              "      <td>22.937500</td>\n",
              "      <td>1595446503000</td>\n",
              "    </tr>\n",
              "    <tr>\n",
              "      <th>5</th>\n",
              "      <td>20</td>\n",
              "      <td>Mexico</td>\n",
              "      <td>362274</td>\n",
              "      <td>48448</td>\n",
              "      <td>41190</td>\n",
              "      <td>272636.0</td>\n",
              "      <td>23.634500</td>\n",
              "      <td>-102.552800</td>\n",
              "      <td>1595446503000</td>\n",
              "    </tr>\n",
              "    <tr>\n",
              "      <th>6</th>\n",
              "      <td>23</td>\n",
              "      <td>Peru</td>\n",
              "      <td>362087</td>\n",
              "      <td>99762</td>\n",
              "      <td>13579</td>\n",
              "      <td>248746.0</td>\n",
              "      <td>-9.190000</td>\n",
              "      <td>-75.015200</td>\n",
              "      <td>1595446503000</td>\n",
              "    </tr>\n",
              "    <tr>\n",
              "      <th>7</th>\n",
              "      <td>21</td>\n",
              "      <td>Chile</td>\n",
              "      <td>334683</td>\n",
              "      <td>19190</td>\n",
              "      <td>8677</td>\n",
              "      <td>306816.0</td>\n",
              "      <td>-35.675100</td>\n",
              "      <td>-71.543000</td>\n",
              "      <td>1595446503000</td>\n",
              "    </tr>\n",
              "    <tr>\n",
              "      <th>8</th>\n",
              "      <td>17</td>\n",
              "      <td>United Kingdom</td>\n",
              "      <td>297952</td>\n",
              "      <td>250952</td>\n",
              "      <td>45586</td>\n",
              "      <td>1414.0</td>\n",
              "      <td>55.000000</td>\n",
              "      <td>-3.000000</td>\n",
              "      <td>1595446503000</td>\n",
              "    </tr>\n",
              "    <tr>\n",
              "      <th>9</th>\n",
              "      <td>97</td>\n",
              "      <td>Iran</td>\n",
              "      <td>281413</td>\n",
              "      <td>21720</td>\n",
              "      <td>14853</td>\n",
              "      <td>244840.0</td>\n",
              "      <td>32.427908</td>\n",
              "      <td>53.688046</td>\n",
              "      <td>1595446503000</td>\n",
              "    </tr>\n",
              "  </tbody>\n",
              "</table>\n",
              "</div>"
            ],
            "text/plain": [
              "    id         country  confirmed  ...   latitude   longitude    last_update\n",
              "0   18              US    3935211  ...  40.000000 -100.000000  1595446503000\n",
              "1   22          Brazil    2159654  ... -14.235000  -51.925300  1595446503000\n",
              "2   27           India    1193078  ...  20.593684   78.962880  1595446503000\n",
              "3   14          Russia     787846  ...  61.524000  105.318800  1595446503000\n",
              "4  163    South Africa     381798  ... -30.559500   22.937500  1595446503000\n",
              "5   20          Mexico     362274  ...  23.634500 -102.552800  1595446503000\n",
              "6   23            Peru     362087  ...  -9.190000  -75.015200  1595446503000\n",
              "7   21           Chile     334683  ... -35.675100  -71.543000  1595446503000\n",
              "8   17  United Kingdom     297952  ...  55.000000   -3.000000  1595446503000\n",
              "9   97            Iran     281413  ...  32.427908   53.688046  1595446503000\n",
              "\n",
              "[10 rows x 9 columns]"
            ]
          },
          "metadata": {
            "tags": []
          },
          "execution_count": 10
        }
      ]
    },
    {
      "cell_type": "code",
      "metadata": {
        "id": "IPuT-LAfKhTs",
        "colab_type": "code",
        "colab": {}
      },
      "source": [
        ""
      ],
      "execution_count": null,
      "outputs": []
    }
  ]
}